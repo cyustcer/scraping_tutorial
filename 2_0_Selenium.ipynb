{
 "cells": [
  {
   "cell_type": "markdown",
   "metadata": {},
   "source": [
    "# Multiple pages scraping I\n",
    "To scrape multiple pages, it is important to pass the robot test of a website, otherwise the code will be blocked by website.\n",
    "## Pretend to be a browser\n",
    "We can set up parameters in the _requests.get_ function to pretend to be a browser."
   ]
  },
  {
   "cell_type": "code",
   "execution_count": 1,
   "metadata": {},
   "outputs": [
    {
     "name": "stdout",
     "output_type": "stream",
     "text": [
      "<title>Zillow: Real Estate, Apartments, Mortgages &amp; Home Values</title>\n"
     ]
    }
   ],
   "source": [
    "import requests\n",
    "from bs4 import BeautifulSoup\n",
    "url = \"https://www.zillow.com\"\n",
    "#r = requests.get(url)\n",
    "# Use headers to set up 'User-Agent' to pass the robot test\n",
    "headers = {'User-Agent': 'Chrome/51.0.2704.84'}\n",
    "r = requests.get(url, headers=headers)\n",
    "soup = BeautifulSoup(r.text, features='lxml')\n",
    "print(soup.title)"
   ]
  },
  {
   "cell_type": "markdown",
   "metadata": {},
   "source": [
    "## Be a real browser\n",
    "### Selenium\n",
    "[Selenium](https://www.seleniumhq.org/) automates browsers. Do install webdriver before using selenium.\n",
    "- Chrome [driver](https://sites.google.com/a/chromium.org/chromedriver/downloads)\n",
    "- Firefox [driver](https://github.com/mozilla/geckodriver/releases)\n",
    "- Safari [driver](https://webkit.org/blog/6900/webdriver-support-in-safari-10/)\n",
    "- or google \"your browser name\" + \"driver\"\n",
    "#### Selenium searches movies"
   ]
  },
  {
   "cell_type": "code",
   "execution_count": 2,
   "metadata": {},
   "outputs": [],
   "source": [
    "from selenium import webdriver\n",
    "from selenium.webdriver.common.keys import Keys\n",
    "\n",
    "URL = \"https://www.imdb.com\"\n",
    "\n",
    "driver = webdriver.Chrome() # Open a web browser\n",
    "driver.get(URL) # Input the URL\n",
    "\n",
    "elem = driver.find_element_by_xpath('//*[@id=\"navbar-query\"]') # Use the xpath to locate the search bar\n",
    "elem.send_keys('Spiderman', Keys.ENTER) # Enter the keywords and press enter\n",
    "#print(driver.page_source)\n",
    "driver.close()"
   ]
  },
  {
   "cell_type": "markdown",
   "metadata": {},
   "source": [
    "#### Selenium clicks url that navigates from one page to another"
   ]
  },
  {
   "cell_type": "code",
   "execution_count": 3,
   "metadata": {},
   "outputs": [],
   "source": [
    "URL = \"https://www.imdb.com/chart/top\"\n",
    "driver = webdriver.Chrome()\n",
    "driver.get(URL)\n",
    "driver.find_element_by_link_text(\"The Godfather\").click() # Find a link named \"The Godfather\"\n",
    "\n",
    "driver.get_screenshot_as_file(\"../img/Screenshot/screenshot1.png\") # Save the screenshot of current page\n",
    "driver.close()"
   ]
  },
  {
   "cell_type": "markdown",
   "metadata": {},
   "source": [
    "#### Selenium scrapes Lego information from Amazon"
   ]
  },
  {
   "cell_type": "code",
   "execution_count": 4,
   "metadata": {},
   "outputs": [],
   "source": [
    "from selenium import webdriver\n",
    "from selenium.webdriver.common.by import By\n",
    "from selenium.webdriver.support.ui import WebDriverWait\n",
    "from selenium.webdriver.support import expected_conditions as EC\n",
    "from selenium.common.exceptions import TimeoutException\n",
    "from pyquery import PyQuery as pq\n",
    "import re\n",
    "\n",
    "browser = webdriver.Chrome()\n",
    "wait = WebDriverWait(browser, 10) # Wait for 10 seconds before throwing \"TimeoutException\" Error\n",
    "browser.get('https://www.amazon.com')\n",
    "input = wait.until(EC.presence_of_element_located((By.CSS_SELECTOR, \"#twotabsearchtextbox\"))) # Find the search bar\n",
    "submit = wait.until(EC.element_to_be_clickable((By.CSS_SELECTOR, \"#nav-search > form > div.nav-right > div > input\"))) # Find the search icon\n",
    "input.send_keys(u'Lego')\n",
    "submit.click()\n"
   ]
  },
  {
   "cell_type": "code",
   "execution_count": 5,
   "metadata": {},
   "outputs": [
    {
     "name": "stdout",
     "output_type": "stream",
     "text": [
      "400\n"
     ]
    }
   ],
   "source": [
    "# Check the total pages of the search\n",
    "total = wait.until(EC.presence_of_element_located((By.CSS_SELECTOR, '#pagn > span.pagnDisabled')))\n",
    "print(total.text)"
   ]
  },
  {
   "cell_type": "code",
   "execution_count": 6,
   "metadata": {},
   "outputs": [],
   "source": [
    "# Find how to go to the next page\n",
    "submit = wait.until(EC.element_to_be_clickable((By.CSS_SELECTOR, '#pagnNextString')))\n",
    "submit.click()"
   ]
  },
  {
   "cell_type": "code",
   "execution_count": 7,
   "metadata": {},
   "outputs": [
    {
     "name": "stdout",
     "output_type": "stream",
     "text": [
      "{'title': '[Sponsored]THE LEGO MOVIE 2 Escape Buggy 70829 Building Kit (549 Piece)', 'price': '[Sponsored] $40.00'}\n",
      "{'title': '[Sponsored]LEGO City Sky Police Diamond Heist 60209 Building Kit (400 Piece)', 'price': '[Sponsored] $47.99'}\n",
      "{'title': '[Sponsored]LEGO Architecture Skyline Collection 21044 Paris Building Kit (649 Piece)', 'price': '[Sponsored] $49.99'}\n",
      "{'title': '\"LEGO Star Wars Yoda\\'s Jedi Starfighter 75168 Building Kit (262 Pieces)', 'price': '$23.99'}\n",
      "{'title': 'LEGO City Arctic Supply Plane 60196 Building Kit (707 Piece)', 'price': '$65.99'}\n",
      "{'title': 'LEGO Star Wars Solo: A Star Wars Story Kessel Run Millennium Falcon 75212 Building Kit (1414 Piece)', 'price': '$151.84'}\n",
      "{'title': 'LEGO Creator 3in1 Mythical Creatures 31073 Building Kit (223 Piece)', 'price': '$11.99'}\n",
      "{'title': 'LEGO City Forest Tractor 60181 Building Kit (174 Piece)', 'price': '$15.99'}\n",
      "{'title': 'LEGO Ninjago Movie Fire Mech 70615 Building Kit (944 Piece)', 'price': '$69.99'}\n"
     ]
    }
   ],
   "source": [
    "# Parse the information from the website\n",
    "wait.until(EC.presence_of_element_located((By.CSS_SELECTOR, \"#s-results-list-atf li\")))\n",
    "html = browser.page_source\n",
    "doc = pq(html)\n",
    "items = doc(\"#s-results-list-atf li\").items()\n",
    "for item in items:\n",
    "    product = {\n",
    "        'title': item.find('h2').text(),\n",
    "        'price': item.find('span.a-offscreen').text(),        \n",
    "    }\n",
    "    print(product)\n",
    "\n",
    "browser.close()"
   ]
  },
  {
   "cell_type": "markdown",
   "metadata": {},
   "source": [
    "To build an automatical scraping project, we need to define several functions that do the above tasks in each function. The functions should includes:\n",
    "- search: input keywords into the page\n",
    "- next_page: turn to next page\n",
    "- get_products: extract information from the page\n",
    "- main: control the entire project"
   ]
  },
  {
   "cell_type": "code",
   "execution_count": 8,
   "metadata": {},
   "outputs": [
    {
     "name": "stdout",
     "output_type": "stream",
     "text": [
      "{'title': '[Sponsored]LEGO Harry Potter Hogwarts Castle 71043 Building Kit (6020 Piece)', 'price': '[Sponsored] $399.99'}\n",
      "{'title': '[Sponsored]LEGO Friends Mia’s House 41369 Building Kit (715 Piece)', 'price': '[Sponsored] $63.00'}\n",
      "{'title': '[Sponsored]LEGO Architecture Skyline Collection 21043 San Francisco Building Kit (629 Piece)', 'price': '[Sponsored] $49.99'}\n",
      "{'title': 'LEGO MINDSTORMS EV3 31313 Robot Kit… LEGO Creator Robo Explorer 31062 Robot… LEGO Ideas Exo Suit 21109', 'price': '$339.97 $22.46'}\n",
      "{'title': 'LEGO Ideas NASA Apollo Saturn V 21309 Building Kit', 'price': '$119.99'}\n",
      "{'title': 'LEGO Classic Medium Creative Brick Box 10696', 'price': '$28.00'}\n",
      "{'title': 'LEGO Boost Creative Toolbox 17101 Fun Robot Building Set and Educational Coding Kit for Kids, Award-Winning STEM Learning Toy (847 Pieces)', 'price': '$159.95'}\n",
      "{'title': 'LEGO Classic Large Creative Brick Box 10698', 'price': '$47.99'}\n",
      "{'title': 'LEGO Creator Mighty Dinosaurs 31058 Dinosaur Toy', 'price': '$12.19'}\n",
      "{'title': 'LEGO Marvel Super Heroes Avengers: Infinity War The Hulkbuster Smash-Up 76104 Building Kit (375 Piece)', 'price': '$23.99'}\n",
      "{'title': 'LEGO 6212644 75954 Harry Potter Hogwarts Great Hall Building Kit, 878 Pieces', 'price': '$99.95'}\n",
      "{'title': 'LEGO Star Wars VIII BB-8 75187 Building Kit (1106 Piece)', 'price': '$79.99'}\n",
      "{'title': 'LEGO City ATV Race Team 60148 Best Toy', 'price': '$19.48'}\n",
      "{'title': 'LEGO Architecture 21030 United States Capitol Building Kit (1032 Piece)', 'price': '$99.90'}\n",
      "{'title': 'LEGO Marvel Super Heroes Avengers: Infinity War Thanos: Ultimate Battle 76107 Guardians of the Galaxy Starship Action Construction Toy and Building Kit for Kids (674 Piece)', 'price': '$61.10'}\n",
      "{'title': '[Sponsored]LEGO Friends Emma’s Art Studio 41365 Building Kit (235 Piece)', 'price': '[Sponsored] $21.97'}\n",
      "{'title': '[Sponsored]LEGO Ninjago Legacy The Ultra Dragon 70679 Building Kit (951 Piece)', 'price': '[Sponsored] $76.00'}\n",
      "{'title': '[Sponsored]LEGO City Burger Bar Fire Rescue 60214 Building Kit (327 Piece)', 'price': '[Sponsored] $34.76'}\n",
      "{'title': 'LEGO Ideas Ship in a Bottle 21313 Expert Building Kit Model Ship, Collectible Display Set and Toy for Adults (962 Pieces)', 'price': '$55.99'}\n",
      "{'title': 'LEGO Friends Heartlake Summer Pool 41313', 'price': '$36.00'}\n",
      "{'title': 'LEGO City Pickup & Caravan 60182 Building Kit (344 Piece)', 'price': '$23.99'}\n",
      "{'title': 'LEGO Harry Potter and the Chamber of Secrets Hogwarts Whomping Willow 75953 Building Kit (753 Pieces)', 'price': '$55.99'}\n",
      "{'title': 'LEGO Architecture Statue of Liberty 21042 Building Kit (1685 Piece)', 'price': '$119.90'}\n",
      "{'title': 'LEGO Creator Expert Volkswagen T1 Camper Van 10220 Construction Set', 'price': '$119.94'}\n",
      "{'title': 'LEGO City Cargo Train 60198 [Amazon Exclusive]', 'price': '$192.31'}\n",
      "{'title': 'LEGO Star Wars Darth Vader’s Castle 75251 Building Kit (1060 Pieces) - (Amazon Exclusive)', 'price': '$129.99'}\n",
      "{'title': 'LEGO City Police Station 60141 Building Kit with Cop Car, Jail Cell, and Helicopter, Top Toy and Play Set for Boys and Girls (894 Pieces)', 'price': '$99.95'}\n",
      "{'title': 'LEGO Creator 3in1 Deep Sea Creatures 31088 Building Kit (230 Piece)', 'price': '$12.93'}\n",
      "{'title': 'LEGO Ninjago Movie Green Ninja Mech Dragon 70612 Building Kit (544 Piece)', 'price': '$40.99'}\n",
      "{'title': 'LEGO NINJAGO Masters of Spinjitzu: Stormbringer 70652 Ninja Toy Building Kit with Blue Dragon Model for Kids, Best Playset Gift for Boys (493 Piece)', 'price': '$34.76'}\n",
      "{'title': 'LEGO Jurassic World T. rex Transport 75933', 'price': '$61.33'}\n",
      "{'title': '[Sponsored]THE LEGO MOVIE 2 Escape Buggy 70829 Building Kit (549 Piece)', 'price': '[Sponsored] $40.00'}\n",
      "{'title': '[Sponsored]LEGO Ninjago Legacy Cole’s Earth Driller 70669 Building Kit (587 Piece)', 'price': '[Sponsored] $49.99'}\n",
      "{'title': '[Sponsored]LEGO Ninjago Legacy Samurai Mech 70665 Building Kit (154 Piece)', 'price': '[Sponsored] $14.92'}\n",
      "{'title': '[Sponsored]LEGO Ninjago Legacy Monastery of Spinjitzu 70670 Building Kit (1070 Piece)', 'price': '[Sponsored] $72.00'}\n",
      "{'title': '[Sponsored]LEGO City Sky Police Diamond Heist 60209 Building Kit (400 Piece)', 'price': '[Sponsored] $47.99'}\n",
      "{'title': '[Sponsored]LEGO Architecture Skyline Collection 21044 Paris Building Kit (649 Piece)', 'price': '[Sponsored] $49.99'}\n",
      "{'title': '\"LEGO Star Wars Yoda\\'s Jedi Starfighter 75168 Building Kit (262 Pieces)', 'price': '$23.99'}\n",
      "{'title': 'LEGO City Arctic Supply Plane 60196 Building Kit (707 Piece)', 'price': '$65.99'}\n",
      "{'title': 'LEGO Star Wars Solo: A Star Wars Story Kessel Run Millennium Falcon 75212 Building Kit (1414 Piece)', 'price': '$151.84'}\n",
      "{'title': 'LEGO Creator 3in1 Mythical Creatures 31073 Building Kit (223 Piece)', 'price': '$11.99'}\n",
      "{'title': 'LEGO City Forest Tractor 60181 Building Kit (174 Piece)', 'price': '$15.99'}\n",
      "{'title': 'LEGO Ninjago Movie Fire Mech 70615 Building Kit (944 Piece)', 'price': '$69.99'}\n",
      "{'title': '[Sponsored]LEGO Creator 3in1 Riverside Houseboat 31093 Building Kit (396 Piece)', 'price': '[Sponsored] $39.99'}\n",
      "{'title': '[Sponsored]LEGO Friends Stephanie’s Buggy & Trailer 41567 Building Kit (166 Piece)', 'price': '[Sponsored] $19.99'}\n",
      "{'title': '[Sponsored]LEGO City Great Vehicles Snow Groomer 60222 Building Kit (197 Piece)', 'price': '[Sponsored] $17.97'}\n",
      "{'title': 'LEGO City Jungle Explorers 6174645 Air Drop Helicopter, Multi', 'price': '$124.92'}\n",
      "{'title': \"LEGO Star Wars Episode VIII Kylo Ren's Tie Fighter 75179 Building Kit (630 Piece)\", 'price': '$79.75'}\n",
      "{'title': 'LEGO Ninjago Movie Temple Ultimate Ultimate Weapon 70617 Building Kit (1403 Piece)', 'price': '$99.99'}\n",
      "{'title': 'LEGO Star Wars: Revenge of The Sith at-AP Walker 75234 Building Kit (689 Pieces)', 'price': '$47.99'}\n",
      "{'title': 'LEGO City Passenger Train 60197 Building Kit (677 Piece)', 'price': '$159.95'}\n",
      "{'title': 'LEGO Star Wars Millennium Falcon Microfighter 75193 Building Kit (92 Piece)', 'price': '$7.49'}\n",
      "{'title': '[Sponsored]LEGO Star Wars: The Revenge of The Sith Droid Gunship 75233 Building Kit (329 Piece)', 'price': '[Sponsored] $44.73'}\n",
      "{'title': '[Sponsored]LEGO City Sky Police Parachute Arrest 60208 Building Kit (218 Piece)', 'price': '[Sponsored] $34.76'}\n",
      "{'title': '[Sponsored]LEGO Creator 3in1 Race Plane 31094 Building Kit (333 Piece)', 'price': '[Sponsored] $29.99'}\n",
      "{'title': 'LEGO Jurassic World Indoraptor Rampage at Lockwood Estate 75930 Popular Building Kit, Best Fallen Kingdom Indoraptor Dinosaur Toy (1019 Pieces)', 'price': '$129.94'}\n",
      "{'title': 'LEGO Minecraft The Nether Portal 21143 Building Kit (470 Piece)', 'price': '$31.99'}\n",
      "{'title': 'LEGO City Hospital 60204 Building Kit (861 Piece)', 'price': '$99.88'}\n",
      "{'title': 'LEGO Technic Rally Car 42077 Building Kit (1005 Pieces)', 'price': '$109.93'}\n",
      "{'title': 'LEGO Star Wars Imperial TIE Fighter 75211 Building Kit (519 Piece)', 'price': '$56.00'}\n",
      "{'title': 'LEGO Star Wars Y-Wing Starfighter 75172 Star Wars Toy', 'price': '$59.99'}\n"
     ]
    }
   ],
   "source": [
    "from selenium import webdriver\n",
    "from selenium.webdriver.common.by import By\n",
    "from selenium.webdriver.support.ui import WebDriverWait\n",
    "from selenium.webdriver.support import expected_conditions as EC\n",
    "from selenium.common.exceptions import TimeoutException\n",
    "from pyquery import PyQuery as pq\n",
    "import re\n",
    "\n",
    "browser = webdriver.Chrome()\n",
    "wait = WebDriverWait(browser, 10)\n",
    "def search():\n",
    "    try:\n",
    "        browser.get('https://www.amazon.com')\n",
    "        input = wait.until(EC.presence_of_element_located((By.CSS_SELECTOR, \"#twotabsearchtextbox\")))\n",
    "        submit = wait.until(EC.element_to_be_clickable((By.CSS_SELECTOR, \"#nav-search > form > div.nav-right > div > input\")))\n",
    "        input.send_keys(u'Lego')\n",
    "        submit.click()\n",
    "        total = wait.until(EC.presence_of_element_located((By.CSS_SELECTOR, '#pagn > span.pagnDisabled')))\n",
    "        get_products()\n",
    "        return total.text\n",
    "    except TimeoutException:\n",
    "        return search()\n",
    "\n",
    "def next_page():\n",
    "    try:\n",
    "        submit = wait.until(EC.element_to_be_clickable((By.CSS_SELECTOR, '#pagnNextString')))\n",
    "        submit.click()\n",
    "        get_products()\n",
    "    \n",
    "    except TimeoutException:\n",
    "        next_page()\n",
    "\n",
    "def get_products():\n",
    "    wait.until(EC.presence_of_element_located((By.CSS_SELECTOR, \"#s-results-list-atf li\")))\n",
    "    html = browser.page_source\n",
    "    doc = pq(html)\n",
    "    items = doc(\"#s-results-list-atf li\").items()\n",
    "    for item in items:\n",
    "        product = {\n",
    "            'title': item.find('h2').text(),\n",
    "            'price': item.find('span.a-offscreen').text(),        \n",
    "        }\n",
    "        print(product)\n",
    "\n",
    "def main():\n",
    "    total = search()\n",
    "    total = int(re.compile('(\\d+)').search(total).group(1))\n",
    "    for i in range(2, 5):\n",
    "        next_page()\n",
    "\n",
    "main()\n",
    "        "
   ]
  }
 ],
 "metadata": {
  "kernelspec": {
   "display_name": "Python 3",
   "language": "python",
   "name": "python3"
  },
  "language_info": {
   "codemirror_mode": {
    "name": "ipython",
    "version": 3
   },
   "file_extension": ".py",
   "mimetype": "text/x-python",
   "name": "python",
   "nbconvert_exporter": "python",
   "pygments_lexer": "ipython3",
   "version": "3.7.2"
  }
 },
 "nbformat": 4,
 "nbformat_minor": 2
}
