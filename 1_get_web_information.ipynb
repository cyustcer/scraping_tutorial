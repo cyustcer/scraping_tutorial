{
 "cells": [
  {
   "cell_type": "markdown",
   "metadata": {},
   "source": [
    "# Web scraping\n",
    "## Document Load\n",
    "### What is the structure of a webpage?\n",
    "- html\n",
    "- css\n",
    "- Javascript\n",
    "\n",
    "### How web browsing works?\n",
    "We send requests to the server through url(Uniform Resource Locator) in order to get information. \n",
    "- Clients enter url into web browser (e.g. Chrome);\n",
    "- Web browser sends requests to web server;\n",
    "- Web server sends 'html', 'css', 'javascript' back to web browser;\n",
    "- Web browser interprets these files into human readable web pages.\n",
    "\n",
    "### How to load these documents into python?\n",
    "'urllib' and 'requests' are two mostly used packages. \n",
    "- 'urllib' is built in for python, no installation needed;\n",
    "- 'requests' can be installed in terminal by cmd:\n",
    "    - _pip install requests_\n",
    "        - pip3 for python3\n",
    "        - add \"--user\" at the end for local installation in server\n",
    "\n",
    "#### _urllib_ package"
   ]
  },
  {
   "cell_type": "code",
   "execution_count": 6,
   "metadata": {},
   "outputs": [
    {
     "name": "stdout",
     "output_type": "stream",
     "text": [
      "['__abstractmethods__', '__class__', '__del__', '__delattr__', '__dict__', '__dir__', '__doc__', '__enter__', '__eq__', '__exit__', '__format__', '__ge__', '__getattribute__', '__gt__', '__hash__', '__init__', '__init_subclass__', '__iter__', '__le__', '__lt__', '__module__', '__ne__', '__new__', '__next__', '__reduce__', '__reduce_ex__', '__repr__', '__setattr__', '__sizeof__', '__str__', '__subclasshook__', '_abc_impl', '_checkClosed', '_checkReadable', '_checkSeekable', '_checkWritable', '_check_close', '_close_conn', '_get_chunk_left', '_method', '_peek_chunked', '_read1_chunked', '_read_and_discard_trailer', '_read_next_chunk_size', '_read_status', '_readall_chunked', '_readinto_chunked', '_safe_read', '_safe_readinto', 'begin', 'chunk_left', 'chunked', 'close', 'closed', 'code', 'debuglevel', 'detach', 'fileno', 'flush', 'fp', 'getcode', 'getheader', 'getheaders', 'geturl', 'headers', 'info', 'isatty', 'isclosed', 'length', 'msg', 'peek', 'read', 'read1', 'readable', 'readinto', 'readinto1', 'readline', 'readlines', 'reason', 'seek', 'seekable', 'status', 'tell', 'truncate', 'url', 'version', 'will_close', 'writable', 'write', 'writelines']\n"
     ]
    }
   ],
   "source": [
    "from urllib.request import urlopen # from urllib package import function urlopen\n",
    "html = urlopen(\"https://www.imdb.com/chart/top\") # load the web pages into python\n",
    "# print(dir(html))\n",
    "html_docs = html.read().decode() # read the html file\n",
    "# html_docs = html.read() # decode helps perform the html better\n",
    "#print(html_docs)"
   ]
  },
  {
   "cell_type": "markdown",
   "metadata": {},
   "source": [
    "#### _requests_ package\n",
    "_requests_ is the only _Non-GMO_ HTTP library for Python, safe for human comsumption. The use of __Python 3__ is highly preferred for _requests_."
   ]
  },
  {
   "cell_type": "code",
   "execution_count": null,
   "metadata": {},
   "outputs": [],
   "source": []
  }
 ],
 "metadata": {
  "kernelspec": {
   "display_name": "Python 3",
   "language": "python",
   "name": "python3"
  },
  "language_info": {
   "codemirror_mode": {
    "name": "ipython",
    "version": 3
   },
   "file_extension": ".py",
   "mimetype": "text/x-python",
   "name": "python",
   "nbconvert_exporter": "python",
   "pygments_lexer": "ipython3",
   "version": "3.7.2"
  }
 },
 "nbformat": 4,
 "nbformat_minor": 2
}
