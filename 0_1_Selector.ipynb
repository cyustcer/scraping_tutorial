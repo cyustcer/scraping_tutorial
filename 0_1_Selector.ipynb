{
 "cells": [
  {
   "cell_type": "markdown",
   "metadata": {},
   "source": [
    "# Selector\n",
    "When you're scraping web pages, the most common task you need to perform is to extract data from the HTML source. There are different methods to identify the location of the data in HTML source.\n",
    "We load a local sample html file to show how these methods work."
   ]
  },
  {
   "cell_type": "code",
   "execution_count": 1,
   "metadata": {},
   "outputs": [],
   "source": [
    "from scrapy import Selector\n",
    "\n",
    "with open('Sample Webpage/sample5.html') as f:\n",
    "    text = f.read()\n",
    "sel = Selector(text=text)"
   ]
  },
  {
   "cell_type": "markdown",
   "metadata": {},
   "source": [
    "Structure of Sample HTML\n",
    "\n",
    "|-- __body__ \n",
    ">|-- __ul__ \n",
    ">>|-- __li__ class = \"top\" \n",
    ">>>|-- __div__ \n",
    ">>>>|-- _div of li_ \n",
    "\n",
    ">>|-- __li__ class = \"top\" \n",
    ">>>|-- __div__ \n",
    ">>>>|-- __div__ \n",
    ">>>>>|-- _div of li's div_ \n",
    "\n",
    ">>|-- __li__  \n",
    ">>>|-- **p**  \n",
    ">>>>|-- _p of li_ \n",
    "\n",
    ">>|-- __li__  \n",
    ">>>|-- __a__  \n",
    ">>>>|-- **div** id = \"li_a_div\" \n",
    ">>>>>|-- _div of li's a_ "
   ]
  },
  {
   "cell_type": "markdown",
   "metadata": {},
   "source": [
    "## Xpath Selector\n",
    "XPath is a major element in the [XSLT](https://en.wikipedia.org/wiki/XSLT) standard. XPath can be used to navigate through elements and attributes in an XML document"
   ]
  },
  {
   "cell_type": "code",
   "execution_count": 2,
   "metadata": {},
   "outputs": [
    {
     "name": "stdout",
     "output_type": "stream",
     "text": [
      "<Selector xpath='/html/body/ul/li' data='<li class=\"top\">\\n            <div>div of'>\n",
      "context:\n",
      "<li class=\"top\">\n",
      "            <div>div of li</div>\n",
      "        </li>\n",
      "\n",
      "\n",
      "<Selector xpath='/html/body/ul/li' data='<li class=\"top\">\\n            <div>\\n     '>\n",
      "context:\n",
      "<li class=\"top\">\n",
      "            <div>\n",
      "            <div>div of li's div</div>\n",
      "            </div>\n",
      "        </li>\n",
      "\n",
      "\n",
      "<Selector xpath='/html/body/ul/li' data='<li>\\n        <p>p of li</p>    \\n        '>\n",
      "context:\n",
      "<li>\n",
      "        <p>p of li</p>    \n",
      "        </li>\n",
      "\n",
      "\n",
      "<Selector xpath='/html/body/ul/li' data='<li>\\n        <a>\\n        <div id=\"li_a_d'>\n",
      "context:\n",
      "<li>\n",
      "        <a>\n",
      "        <div id=\"li_a_div\">div of li's a    \n",
      "            \n",
      "        \n",
      "    \n",
      "</div></a></li>\n",
      "\n",
      "\n"
     ]
    }
   ],
   "source": [
    "ul_s_lis = sel.xpath(\"/html/body/ul/li\")\n",
    "for ul_s_li in ul_s_lis:\n",
    "    print(ul_s_li)\n",
    "    print('context:')\n",
    "    print(ul_s_li.extract())\n",
    "    print('\\n')"
   ]
  },
  {
   "cell_type": "code",
   "execution_count": 3,
   "metadata": {},
   "outputs": [
    {
     "name": "stdout",
     "output_type": "stream",
     "text": [
      "<Selector xpath='//li' data='<li class=\"top\">\\n            <div>div of'>\n",
      "<Selector xpath='//li' data='<li class=\"top\">\\n            <div>\\n     '>\n",
      "<Selector xpath='//li' data='<li>\\n        <p>p of li</p>    \\n        '>\n",
      "<Selector xpath='//li' data='<li>\\n        <a>\\n        <div id=\"li_a_d'>\n"
     ]
    }
   ],
   "source": [
    "lis = sel.xpath(\"//li\")\n",
    "for li in lis:\n",
    "    print(li)"
   ]
  },
  {
   "cell_type": "code",
   "execution_count": 4,
   "metadata": {},
   "outputs": [
    {
     "data": {
      "text/plain": [
       "<Selector xpath='./p' data='<p>p of li</p>'>"
      ]
     },
     "execution_count": 4,
     "metadata": {},
     "output_type": "execute_result"
    }
   ],
   "source": [
    "sel.xpath(\"//li\")[2].xpath('./p')[0] # return the first label p of the third li"
   ]
  },
  {
   "cell_type": "code",
   "execution_count": 5,
   "metadata": {},
   "outputs": [
    {
     "data": {
      "text/plain": [
       "\"div of li's a    \\n            \\n        \\n    \\n\""
      ]
     },
     "execution_count": 5,
     "metadata": {},
     "output_type": "execute_result"
    }
   ],
   "source": [
    "sel.xpath(\"/html/body/ul/li/a/div/text()\").extract_first()"
   ]
  },
  {
   "cell_type": "markdown",
   "metadata": {},
   "source": [
    "More about Xpath can be found at [XPath Tutorial](https://www.w3schools.com/xml/xpath_intro.asp)\n",
    "## CSS Selector\n",
    "In CSS, selectors are patterns used to select the element(s) you want to style."
   ]
  },
  {
   "cell_type": "code",
   "execution_count": 6,
   "metadata": {},
   "outputs": [
    {
     "name": "stdout",
     "output_type": "stream",
     "text": [
      "<Selector xpath=\"descendant-or-self::*[@class and contains(concat(' ', normalize-space(@class), ' '), ' top ')]\" data='<li class=\"top\">\\n            <div>div of'>\n",
      "context:\n",
      "<li class=\"top\">\n",
      "            <div>div of li</div>\n",
      "        </li>\n",
      "\n",
      "\n",
      "<Selector xpath=\"descendant-or-self::*[@class and contains(concat(' ', normalize-space(@class), ' '), ' top ')]\" data='<li class=\"top\">\\n            <div>\\n     '>\n",
      "context:\n",
      "<li class=\"top\">\n",
      "            <div>\n",
      "            <div>div of li's div</div>\n",
      "            </div>\n",
      "        </li>\n",
      "\n",
      "\n"
     ]
    }
   ],
   "source": [
    "classes = sel.css('.top')\n",
    "for clas in classes:\n",
    "    print(clas)\n",
    "    print('context:')\n",
    "    print(clas.extract())\n",
    "    print('\\n')"
   ]
  },
  {
   "cell_type": "code",
   "execution_count": 7,
   "metadata": {},
   "outputs": [
    {
     "name": "stdout",
     "output_type": "stream",
     "text": [
      "<Selector xpath=\"descendant-or-self::*[@id = 'li_a_div']\" data='<div id=\"li_a_div\">div of li\\'s a    \\n   '>\n",
      "context:\n",
      "<div id=\"li_a_div\">div of li's a    \n",
      "            \n",
      "        \n",
      "    \n",
      "</div>\n"
     ]
    }
   ],
   "source": [
    "ids = sel.css('#li_a_div')\n",
    "for ID in ids:\n",
    "    print(ID)\n",
    "    print(\"context:\")\n",
    "    print(ID.extract())"
   ]
  },
  {
   "cell_type": "code",
   "execution_count": 8,
   "metadata": {},
   "outputs": [
    {
     "name": "stdout",
     "output_type": "stream",
     "text": [
      "<Selector xpath='descendant-or-self::li/descendant-or-self::*/div' data='<div>div of li</div>'>\n",
      "<Selector xpath='descendant-or-self::li/descendant-or-self::*/div' data=\"<div>\\n            <div>div of li's div</\">\n",
      "<Selector xpath='descendant-or-self::li/descendant-or-self::*/div' data=\"<div>div of li's div</div>\">\n",
      "<Selector xpath='descendant-or-self::li/descendant-or-self::*/div' data='<div id=\"li_a_div\">div of li\\'s a    \\n   '>\n"
     ]
    }
   ],
   "source": [
    "divs_in_li = sel.css(\"li div\")\n",
    "for div_in_li in divs_in_li:\n",
    "    print(div_in_li)"
   ]
  },
  {
   "cell_type": "code",
   "execution_count": 9,
   "metadata": {},
   "outputs": [
    {
     "name": "stdout",
     "output_type": "stream",
     "text": [
      "<Selector xpath='descendant-or-self::li/div' data='<div>div of li</div>'>\n",
      "<Selector xpath='descendant-or-self::li/div' data=\"<div>\\n            <div>div of li's div</\">\n"
     ]
    }
   ],
   "source": [
    "li_s_divs = sel.css(\"li>div\")\n",
    "for li_s_div in li_s_divs:\n",
    "    print(li_s_div)"
   ]
  },
  {
   "cell_type": "code",
   "execution_count": 10,
   "metadata": {},
   "outputs": [
    {
     "name": "stdout",
     "output_type": "stream",
     "text": [
      "<Selector xpath='descendant-or-self::li | descendant-or-self::div' data='<li class=\"top\">\\n            <div>div of'>\n",
      "<Selector xpath='descendant-or-self::li | descendant-or-self::div' data='<div>div of li</div>'>\n",
      "<Selector xpath='descendant-or-self::li | descendant-or-self::div' data='<li class=\"top\">\\n            <div>\\n     '>\n",
      "<Selector xpath='descendant-or-self::li | descendant-or-self::div' data=\"<div>\\n            <div>div of li's div</\">\n",
      "<Selector xpath='descendant-or-self::li | descendant-or-self::div' data=\"<div>div of li's div</div>\">\n",
      "<Selector xpath='descendant-or-self::li | descendant-or-self::div' data='<li>\\n        <p>p of li</p>    \\n        '>\n",
      "<Selector xpath='descendant-or-self::li | descendant-or-self::div' data='<li>\\n        <a>\\n        <div id=\"li_a_d'>\n",
      "<Selector xpath='descendant-or-self::li | descendant-or-self::div' data='<div id=\"li_a_div\">div of li\\'s a    \\n   '>\n"
     ]
    }
   ],
   "source": [
    "li_and_divs = sel.css(\"li,div\")\n",
    "for li_and_div in li_and_divs:\n",
    "    print(li_and_div)"
   ]
  },
  {
   "cell_type": "code",
   "execution_count": 11,
   "metadata": {},
   "outputs": [
    {
     "name": "stdout",
     "output_type": "stream",
     "text": [
      "<Selector xpath='descendant-or-self::*' data='<html lang=\"en-US\">\\n<body>\\n    <ul>\\n\\n   '>\n",
      "<Selector xpath='descendant-or-self::*' data='<body>\\n    <ul>\\n\\n        <li class=\"top\"'>\n",
      "<Selector xpath='descendant-or-self::*' data='<ul>\\n\\n        <li class=\"top\">\\n         '>\n",
      "<Selector xpath='descendant-or-self::*' data='<li class=\"top\">\\n            <div>div of'>\n",
      "<Selector xpath='descendant-or-self::*' data='<div>div of li</div>'>\n",
      "<Selector xpath='descendant-or-self::*' data='<li class=\"top\">\\n            <div>\\n     '>\n",
      "<Selector xpath='descendant-or-self::*' data=\"<div>\\n            <div>div of li's div</\">\n",
      "<Selector xpath='descendant-or-self::*' data=\"<div>div of li's div</div>\">\n",
      "<Selector xpath='descendant-or-self::*' data='<li>\\n        <p>p of li</p>    \\n        '>\n",
      "<Selector xpath='descendant-or-self::*' data='<p>p of li</p>'>\n",
      "<Selector xpath='descendant-or-self::*' data='<li>\\n        <a>\\n        <div id=\"li_a_d'>\n",
      "<Selector xpath='descendant-or-self::*' data='<a>\\n        <div id=\"li_a_div\">div of li'>\n",
      "<Selector xpath='descendant-or-self::*' data='<div id=\"li_a_div\">div of li\\'s a    \\n   '>\n"
     ]
    }
   ],
   "source": [
    "ALL = sel.css('*')\n",
    "for item in ALL:\n",
    "    print(item)"
   ]
  },
  {
   "cell_type": "markdown",
   "metadata": {},
   "source": [
    "More reference of CSS selectors can be found at [CSS Selectors Reference](https://www.w3schools.com/cssref/css_selectors.asp)"
   ]
  },
  {
   "cell_type": "markdown",
   "metadata": {},
   "source": [
    "## pyquery\n",
    "pyquery allows you to make [jQuery](https://www.w3schools.com/jquery/), a JavaScript library, queries on xml documents."
   ]
  },
  {
   "cell_type": "code",
   "execution_count": 12,
   "metadata": {},
   "outputs": [],
   "source": [
    "from pyquery import PyQuery\n",
    "\n",
    "jpy =  PyQuery(text)"
   ]
  },
  {
   "cell_type": "code",
   "execution_count": 13,
   "metadata": {},
   "outputs": [
    {
     "name": "stdout",
     "output_type": "stream",
     "text": [
      "div of li div of li's div\n",
      "\n",
      "            div of li\n",
      "        \n"
     ]
    }
   ],
   "source": [
    "print(jpy('.top').text())\n",
    "print(jpy('.top')[0].text_content())"
   ]
  },
  {
   "cell_type": "code",
   "execution_count": 14,
   "metadata": {},
   "outputs": [
    {
     "name": "stdout",
     "output_type": "stream",
     "text": [
      "top\n"
     ]
    }
   ],
   "source": [
    "print(jpy('.top').attr('class'))"
   ]
  },
  {
   "cell_type": "code",
   "execution_count": 15,
   "metadata": {},
   "outputs": [
    {
     "name": "stdout",
     "output_type": "stream",
     "text": [
      "div of li\n",
      "div of li's div\n",
      "p of li\n",
      "div of li's a\n"
     ]
    }
   ],
   "source": [
    "items = jpy('li')\n",
    "for item in items.items():\n",
    "        print(item.text())"
   ]
  },
  {
   "cell_type": "code",
   "execution_count": 16,
   "metadata": {},
   "outputs": [
    {
     "name": "stdout",
     "output_type": "stream",
     "text": [
      "top\n",
      "top\n",
      "None\n",
      "None\n"
     ]
    }
   ],
   "source": [
    "for item in items.items():\n",
    "    print(item.attr('class'))"
   ]
  }
 ],
 "metadata": {
  "kernelspec": {
   "display_name": "Python 3",
   "language": "python",
   "name": "python3"
  },
  "language_info": {
   "codemirror_mode": {
    "name": "ipython",
    "version": 3
   },
   "file_extension": ".py",
   "mimetype": "text/x-python",
   "name": "python",
   "nbconvert_exporter": "python",
   "pygments_lexer": "ipython3",
   "version": "3.7.2"
  }
 },
 "nbformat": 4,
 "nbformat_minor": 2
}
