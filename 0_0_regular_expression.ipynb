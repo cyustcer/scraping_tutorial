{
 "cells": [
  {
   "cell_type": "markdown",
   "metadata": {},
   "source": [
    "# Python Regular Expression (regex)\n",
    "A [regular expression](https://en.wikipedia.org/wiki/Regular_expression) (sometimes called a rational expression) is a sequence of characters that define a search pattern.\n",
    "## String searching"
   ]
  },
  {
   "cell_type": "code",
   "execution_count": 1,
   "metadata": {},
   "outputs": [
    {
     "name": "stdout",
     "output_type": "stream",
     "text": [
      "6 sick hicks nick\n",
      "six slick bricks with sticks.\n",
      "True\n",
      "False\n"
     ]
    }
   ],
   "source": [
    "ptn1 = \"sick\"\n",
    "ptn2 = \"pick\"\n",
    "ptn3 = \"nick\"\n",
    "string = \"6 sick hicks nick\\nsix slick bricks with sticks.\"\n",
    "print(string)\n",
    "\n",
    "# Matching String\n",
    "print(ptn1 in string)\n",
    "print(ptn2 in string)"
   ]
  },
  {
   "cell_type": "markdown",
   "metadata": {},
   "source": [
    "## Regular Expression\n",
    "### Simple search"
   ]
  },
  {
   "cell_type": "code",
   "execution_count": 2,
   "metadata": {},
   "outputs": [
    {
     "name": "stdout",
     "output_type": "stream",
     "text": [
      "<re.Match object; span=(2, 6), match='sick'>\n",
      "None\n"
     ]
    }
   ],
   "source": [
    "# Regular Expression\n",
    "import re\n",
    "\n",
    "## pattern matching\n",
    "print(re.search(ptn1, string))\n",
    "print(re.search(ptn2, string))"
   ]
  },
  {
   "cell_type": "markdown",
   "metadata": {},
   "source": [
    "### Multiple patterns search"
   ]
  },
  {
   "cell_type": "code",
   "execution_count": 3,
   "metadata": {},
   "outputs": [
    {
     "name": "stdout",
     "output_type": "stream",
     "text": [
      "<re.Match object; span=(2, 6), match='sick'>\n"
     ]
    }
   ],
   "source": [
    "## multiple patterns matching (\"sick\" or \"pick\")\n",
    "ptn = r\"[sp]ick\" # r outside \"\" stands for regexp, followed by the expressoin in the quotes \n",
    "print(re.search(ptn, string))"
   ]
  },
  {
   "cell_type": "markdown",
   "metadata": {},
   "source": [
    "### More patterns"
   ]
  },
  {
   "cell_type": "code",
   "execution_count": 4,
   "metadata": {},
   "outputs": [
    {
     "name": "stdout",
     "output_type": "stream",
     "text": [
      "<re.Match object; span=(2, 6), match='sick'>\n",
      "None\n",
      "<re.Match object; span=(2, 6), match='sick'>\n"
     ]
    }
   ],
   "source": [
    "## more patterns\n",
    "print(re.search(r\"[a-z]ick\", string))\n",
    "print(re.search(r\"[A-Z]ick\", string))\n",
    "print(re.search(r\"[0-9a-z]ick\", string))"
   ]
  },
  {
   "cell_type": "markdown",
   "metadata": {},
   "source": [
    "### Digit search"
   ]
  },
  {
   "cell_type": "code",
   "execution_count": 5,
   "metadata": {},
   "outputs": [
    {
     "name": "stdout",
     "output_type": "stream",
     "text": [
      "<re.Match object; span=(0, 1), match='6'>\n",
      "<re.Match object; span=(2, 6), match='sick'>\n"
     ]
    }
   ],
   "source": [
    "## matching digit\n",
    "### \\d: any decimal digit\n",
    "print(re.search(r\"\\d\", string))\n",
    "### \\D: any non-decimal digit\n",
    "print(re.search(r\"\\Dick\", string))"
   ]
  },
  {
   "cell_type": "markdown",
   "metadata": {},
   "source": [
    "### Space search"
   ]
  },
  {
   "cell_type": "code",
   "execution_count": 6,
   "metadata": {},
   "outputs": [
    {
     "name": "stdout",
     "output_type": "stream",
     "text": [
      "<re.Match object; span=(1, 2), match=' '>\n",
      "<re.Match object; span=(0, 1), match='6'>\n"
     ]
    }
   ],
   "source": [
    "## matching space\n",
    "### \\s: any white space [\\t\\n\\r\\f\\v]\n",
    "print(re.search(r\"\\s\", string))\n",
    "### \\S: opposite to \\s, any non-white space\n",
    "print(re.search(r\"\\S\", string))"
   ]
  },
  {
   "cell_type": "markdown",
   "metadata": {},
   "source": [
    "### Digit, Alphabet and \"_\""
   ]
  },
  {
   "cell_type": "code",
   "execution_count": 7,
   "metadata": {},
   "outputs": [
    {
     "name": "stdout",
     "output_type": "stream",
     "text": [
      "<re.Match object; span=(2, 6), match='sick'>\n",
      "None\n",
      "<re.Match object; span=(1, 6), match=' sick'>\n"
     ]
    }
   ],
   "source": [
    "## matching any digit, alphabet and \"_\"\n",
    "### \\w: includes [a-zA-Z0-9_]\n",
    "print(re.search(r\"\\wick\", string))\n",
    "### \\W: anything other than [a-ZA-Z0-9_]\n",
    "print(re.search(r\"\\Wick\", string))\n",
    "print(re.search(r\"\\Wsick\", string))"
   ]
  },
  {
   "cell_type": "markdown",
   "metadata": {},
   "source": [
    "### Empty string"
   ]
  },
  {
   "cell_type": "code",
   "execution_count": 8,
   "metadata": {},
   "outputs": [
    {
     "name": "stdout",
     "output_type": "stream",
     "text": [
      "<re.Match object; span=(2, 6), match='sick'>\n",
      "None\n",
      "None\n",
      "<re.Match object; span=(1, 7), match=' sick '>\n"
     ]
    }
   ],
   "source": [
    "## matching empty string \n",
    "### \\b: empty string (only at the start or end of the word)\n",
    "print(re.search(r\"\\bsick\\b\", string))\n",
    "print(re.search(r\"\\bhick\\b\", string))\n",
    "### \\B: empty string (but not at the start or end of a word)\n",
    "print(re.search(r\"\\B sick \\B\", string))\n",
    "print(re.search(r\"\\B sick \\B\", \"  sick  \"))"
   ]
  },
  {
   "cell_type": "markdown",
   "metadata": {},
   "source": [
    "### Special Character"
   ]
  },
  {
   "cell_type": "code",
   "execution_count": 9,
   "metadata": {},
   "outputs": [
    {
     "name": "stdout",
     "output_type": "stream",
     "text": [
      "None\n",
      "<re.Match object; span=(0, 1), match='\\\\'>\n",
      "<re.Match object; span=(2, 6), match='sick'>\n",
      "<re.Match object; span=(2, 3), match='.'>\n"
     ]
    }
   ],
   "source": [
    "## matching special character\n",
    "### \\\\: match \\\n",
    "print(re.search(r\"\\\\\", string))\n",
    "print(re.search(r\"\\\\\", \"\\\\n.\"))\n",
    "### .: match anything except \\n\n",
    "print(re.search(r\".ick\", string))\n",
    "print(re.search(r\"\\.\", \"\\\\n.\"))"
   ]
  },
  {
   "cell_type": "markdown",
   "metadata": {},
   "source": [
    "### Start and end of line"
   ]
  },
  {
   "cell_type": "code",
   "execution_count": 10,
   "metadata": {},
   "outputs": [
    {
     "name": "stdout",
     "output_type": "stream",
     "text": [
      "<re.Match object; span=(0, 1), match='6'>\n",
      "None\n",
      "<re.Match object; span=(46, 47), match='.'>\n"
     ]
    }
   ],
   "source": [
    "## match line beginning or ending\n",
    "### ^: match line beginning\n",
    "print(re.search(r\"^6\", string))\n",
    "print(re.search(r\"^six\", string))\n",
    "### $: match line ending\n",
    "print(re.search(r\"\\.$\", string))"
   ]
  },
  {
   "cell_type": "markdown",
   "metadata": {},
   "source": [
    "### Multpile Line search"
   ]
  },
  {
   "cell_type": "code",
   "execution_count": 11,
   "metadata": {},
   "outputs": [
    {
     "name": "stdout",
     "output_type": "stream",
     "text": [
      "None\n",
      "<re.Match object; span=(18, 21), match='six'>\n"
     ]
    }
   ],
   "source": [
    "## multiple line match\n",
    "print(re.search(r\"^six\", string))\n",
    "print(re.search(r\"^six\", string, flags=re.M))"
   ]
  },
  {
   "cell_type": "markdown",
   "metadata": {},
   "source": [
    "## Quantifiers\n",
    "### 0 or 1"
   ]
  },
  {
   "cell_type": "code",
   "execution_count": 12,
   "metadata": {},
   "outputs": [
    {
     "name": "stdout",
     "output_type": "stream",
     "text": [
      "<re.Match object; span=(2, 6), match='sick'>\n",
      "<re.Match object; span=(12, 17), match='slick'>\n"
     ]
    }
   ],
   "source": [
    "## ?: may or may not occur\n",
    "print(re.search(r\"s(l)?ick\", string))\n",
    "print(re.search(r\"s(l)?ick\", string[10:]))"
   ]
  },
  {
   "cell_type": "markdown",
   "metadata": {},
   "source": [
    "### 0 or more"
   ]
  },
  {
   "cell_type": "code",
   "execution_count": 13,
   "metadata": {},
   "outputs": [
    {
     "name": "stdout",
     "output_type": "stream",
     "text": [
      "<re.Match object; span=(0, 1), match='a'>\n",
      "<re.Match object; span=(0, 5), match='abbbb'>\n"
     ]
    }
   ],
   "source": [
    "## occur 0 or more times\n",
    "print(re.search(r\"ab*\", \"a\"))\n",
    "print(re.search(r\"ab*\", \"abbbb\"))"
   ]
  },
  {
   "cell_type": "markdown",
   "metadata": {},
   "source": [
    "### 1 or more"
   ]
  },
  {
   "cell_type": "code",
   "execution_count": 14,
   "metadata": {},
   "outputs": [
    {
     "name": "stdout",
     "output_type": "stream",
     "text": [
      "None\n",
      "<re.Match object; span=(0, 6), match='abbbbb'>\n"
     ]
    }
   ],
   "source": [
    "## + : occur 1 or more times\n",
    "print(re.search(r\"ab+\", \"a\"))                       \n",
    "print(re.search(r\"ab+\", \"abbbbb\"))"
   ]
  },
  {
   "cell_type": "markdown",
   "metadata": {},
   "source": [
    "### n to m times"
   ]
  },
  {
   "cell_type": "code",
   "execution_count": 15,
   "metadata": {},
   "outputs": [
    {
     "name": "stdout",
     "output_type": "stream",
     "text": [
      "None\n",
      "<re.Match object; span=(0, 6), match='abbbbb'>\n",
      "None\n"
     ]
    }
   ],
   "source": [
    "## {n, m} : occur n to m times\n",
    "print(re.search(r\"ab{2,10}\", \"a\"))                  \n",
    "print(re.search(r\"ab{2,10}\", \"abbbbb\"))\n",
    "print(re.search(r\"ab{8,10}\", \"abbbbb\"))"
   ]
  },
  {
   "cell_type": "markdown",
   "metadata": {},
   "source": [
    "## Range\n",
    "### group"
   ]
  },
  {
   "cell_type": "code",
   "execution_count": 16,
   "metadata": {},
   "outputs": [
    {
     "name": "stdout",
     "output_type": "stream",
     "text": [
      "021523, Date: Feb/12/2017\n",
      "021523\n",
      "Feb/12/2017\n"
     ]
    }
   ],
   "source": [
    "## group\n",
    "match = re.search(r\"(\\d+), Date: (.+)\", \"ID: 021523, Date: Feb/12/2017\")\n",
    "# () helps group the matched string to different groups\n",
    "print(match.group())                                \n",
    "print(match.group(1))                               \n",
    "print(match.group(2))"
   ]
  },
  {
   "cell_type": "markdown",
   "metadata": {},
   "source": [
    "### a or b"
   ]
  },
  {
   "cell_type": "code",
   "execution_count": 17,
   "metadata": {},
   "outputs": [
    {
     "name": "stdout",
     "output_type": "stream",
     "text": [
      "['s', 'h']\n",
      "['sick', 'hick']\n"
     ]
    }
   ],
   "source": [
    "## | : or\n",
    "print(re.findall(r\"(s|h)ick\", string))\n",
    "print(re.findall(r\"(sick|hick)\", string))"
   ]
  },
  {
   "cell_type": "markdown",
   "metadata": {},
   "source": [
    "## Find all"
   ]
  },
  {
   "cell_type": "code",
   "execution_count": 18,
   "metadata": {},
   "outputs": [
    {
     "name": "stdout",
     "output_type": "stream",
     "text": [
      "['sick', 'hick', 'nick', 'lick', 'rick', 'tick']\n"
     ]
    }
   ],
   "source": [
    "## findall\n",
    "print(re.findall(r\".ick\", string))"
   ]
  },
  {
   "cell_type": "markdown",
   "metadata": {},
   "source": [
    "## Replace"
   ]
  },
  {
   "cell_type": "code",
   "execution_count": 19,
   "metadata": {},
   "outputs": [
    {
     "name": "stdout",
     "output_type": "stream",
     "text": [
      "six sick hicks nick\n",
      "six slick bricks with sticks.\n"
     ]
    }
   ],
   "source": [
    "## re.sub() replace\n",
    "print(re.sub(r\"6\", \"six\", string))"
   ]
  },
  {
   "cell_type": "markdown",
   "metadata": {},
   "source": [
    "## Split"
   ]
  },
  {
   "cell_type": "code",
   "execution_count": 20,
   "metadata": {
    "scrolled": true
   },
   "outputs": [
    {
     "name": "stdout",
     "output_type": "stream",
     "text": [
      "['6', 'sick', 'hicks', 'nick', 'six', 'slick', 'bricks', 'with', 'sticks', '']\n"
     ]
    }
   ],
   "source": [
    "## re.split()\n",
    "print(re.split(\"[.\\s]\", string))"
   ]
  },
  {
   "cell_type": "markdown",
   "metadata": {},
   "source": [
    "## Compile"
   ]
  },
  {
   "cell_type": "code",
   "execution_count": 21,
   "metadata": {},
   "outputs": [
    {
     "name": "stdout",
     "output_type": "stream",
     "text": [
      "<re.Match object; span=(2, 6), match='sick'>\n",
      "['sick', 'nick']\n"
     ]
    }
   ],
   "source": [
    "## compile\n",
    "compiled_re = re.compile(r\"[psn]ick\")\n",
    "print(compiled_re.search(string))\n",
    "print(compiled_re.findall(string))"
   ]
  },
  {
   "cell_type": "markdown",
   "metadata": {},
   "source": [
    "__You can find more on this [cheat sheet](http://www.cbs.dtu.dk/courses/27610/regular-expressions-cheat-sheet-v2.pdf)__"
   ]
  }
 ],
 "metadata": {
  "kernelspec": {
   "display_name": "Python 3",
   "language": "python",
   "name": "python3"
  },
  "language_info": {
   "codemirror_mode": {
    "name": "ipython",
    "version": 3
   },
   "file_extension": ".py",
   "mimetype": "text/x-python",
   "name": "python",
   "nbconvert_exporter": "python",
   "pygments_lexer": "ipython3",
   "version": "3.7.2"
  }
 },
 "nbformat": 4,
 "nbformat_minor": 2
}
