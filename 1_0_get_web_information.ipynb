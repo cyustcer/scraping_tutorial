{
 "cells": [
  {
   "cell_type": "markdown",
   "metadata": {},
   "source": [
    "# Web scraping\n",
    "## Background\n",
    "### How web browsing works?\n",
    "We send requests to the server through url(Uniform Resource Locator) in order to get information. \n",
    "- Clients enter url into web browser (e.g. Chrome);\n",
    "- Web browser sends requests to web server;\n",
    "- Web server sends 'html', 'css', 'javascript' back to web browser;\n",
    "- Web browser interprets these files into human readable web pages.\n",
    "\n",
    "### What is the structure of a webpage?\n",
    "- html\n",
    "- css\n",
    "- Javascript\n",
    "\n",
    "## Document Load\n",
    "### How to load these documents into python?\n",
    "'urllib' and 'requests' are two mostly used packages. \n",
    "- 'urllib' is built in for python, no installation needed;\n",
    "- 'requests' can be installed in terminal by cmd:\n",
    "    - _pip install requests_\n",
    "        - pip3 for python3\n",
    "        - add \"--user\" at the end for local installation in server\n",
    "\n",
    "### _urllib_ package"
   ]
  },
  {
   "cell_type": "code",
   "execution_count": 1,
   "metadata": {},
   "outputs": [
    {
     "name": "stdout",
     "output_type": "stream",
     "text": [
      "<http.client.HTTPResponse object at 0x0000014B858875F8>\n"
     ]
    }
   ],
   "source": [
    "from urllib.request import urlopen # from urllib package import function urlopen\n",
    "URL = \"https://www.imdb.com/chart/top\"\n",
    "html = urlopen(URL) # load the web pages into python\n",
    "#print(dir(html))\n",
    "#print(html)\n",
    "#html_docs = html.read() # read the html file\n",
    "html_docs = html.read().decode() # decode helps perform the html better\n",
    "#print(html_docs)"
   ]
  },
  {
   "cell_type": "markdown",
   "metadata": {},
   "source": [
    "### _requests_ package\n",
    "_requests_ is the only _Non-GMO_ HTTP library for Python, safe for human comsumption. The use of __Python 3__ is highly preferred for _requests_."
   ]
  },
  {
   "cell_type": "code",
   "execution_count": 2,
   "metadata": {},
   "outputs": [],
   "source": [
    "import requests\n",
    "r = requests.get(URL)\n",
    "#print(dir(r))\n",
    "\n",
    "#print(r.text)\n",
    "#print(r.content)\n",
    "#print(r.content.decode())\n",
    "#r.status_code\n",
    "#r.apparent_encoding"
   ]
  },
  {
   "cell_type": "markdown",
   "metadata": {},
   "source": [
    "Pass some parameters to the webpage."
   ]
  },
  {
   "cell_type": "code",
   "execution_count": 3,
   "metadata": {},
   "outputs": [
    {
     "data": {
      "text/plain": [
       "True"
      ]
     },
     "execution_count": 3,
     "metadata": {},
     "output_type": "execute_result"
    }
   ],
   "source": [
    "import webbrowser\n",
    "URL = \"http://www.google.com/search\"\n",
    "param = {\"q\": \"bumblebee\"}\n",
    "r = requests.get(URL, params=param)\n",
    "webbrowser.open(r.url)"
   ]
  },
  {
   "cell_type": "markdown",
   "metadata": {},
   "source": [
    "#### Post\n",
    "We test post function using this [page](http://pythonscraping.com/pages/files/form.html). We can pass some data to the server for analysis, and the server will send some response to us accordingly."
   ]
  },
  {
   "cell_type": "code",
   "execution_count": 4,
   "metadata": {},
   "outputs": [
    {
     "name": "stdout",
     "output_type": "stream",
     "text": [
      "Hello there, Yao Chen!\n"
     ]
    }
   ],
   "source": [
    "data = {'firstname': 'Yao', 'lastname': 'Chen'}\n",
    "r = requests.post('http://pythonscraping.com/pages/files/processing.php', data=data)\n",
    "print(r.text)"
   ]
  },
  {
   "cell_type": "markdown",
   "metadata": {},
   "source": [
    "#### Uploading image\n",
    "We test uploading using this [page](http://pythonscraping.com/files/form2.html)."
   ]
  },
  {
   "cell_type": "code",
   "execution_count": 5,
   "metadata": {},
   "outputs": [
    {
     "name": "stdout",
     "output_type": "stream",
     "text": [
      "uploads/PU.jpg\n",
      "The file PU.jpg has been uploaded.\n"
     ]
    }
   ],
   "source": [
    "file = {'uploadFile': open('../img/PU.jpg', 'rb')}\n",
    "r = requests.post('http://pythonscraping.com/pages/files/processing2.php', files=file)\n",
    "print(r.text)"
   ]
  },
  {
   "cell_type": "markdown",
   "metadata": {},
   "source": [
    "#### Login\n",
    "Use post method to login to a [website](http://pythonscraping.com/pages/cookies/login.html)."
   ]
  },
  {
   "cell_type": "code",
   "execution_count": 6,
   "metadata": {},
   "outputs": [
    {
     "name": "stdout",
     "output_type": "stream",
     "text": [
      "{'loggedin': '1', 'username': 'Yao'}\n"
     ]
    }
   ],
   "source": [
    "login = {'username': 'Yao', 'password': 'password'}\n",
    "r = requests.post('http://pythonscraping.com/pages/cookies/welcome.php', data=login)\n",
    "print(r.cookies.get_dict())"
   ]
  },
  {
   "cell_type": "code",
   "execution_count": 7,
   "metadata": {},
   "outputs": [
    {
     "name": "stdout",
     "output_type": "stream",
     "text": [
      "{'loggedin': '1', 'username': 'Yao'}\n"
     ]
    }
   ],
   "source": [
    "session = requests.Session()\n",
    "r = session.post('http://pythonscraping.com/pages/cookies/welcome.php', data=login)\n",
    "print(r.cookies.get_dict())"
   ]
  }
 ],
 "metadata": {
  "kernelspec": {
   "display_name": "Python 3",
   "language": "python",
   "name": "python3"
  },
  "language_info": {
   "codemirror_mode": {
    "name": "ipython",
    "version": 3
   },
   "file_extension": ".py",
   "mimetype": "text/x-python",
   "name": "python",
   "nbconvert_exporter": "python",
   "pygments_lexer": "ipython3",
   "version": "3.7.2"
  }
 },
 "nbformat": 4,
 "nbformat_minor": 2
}
