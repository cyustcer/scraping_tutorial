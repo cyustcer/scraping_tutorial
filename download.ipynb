{
 "cells": [
  {
   "cell_type": "code",
   "execution_count": null,
   "metadata": {},
   "outputs": [],
   "source": [
    "import os\n",
    "os.makedirs('./img/', exist_ok=True)\n",
    "\n",
    "IMAGE_URL = \"https://morvanzhou.github.io/static/img/description/learning_step_flowchart.png\""
   ]
  },
  {
   "cell_type": "code",
   "execution_count": 2,
   "metadata": {},
   "outputs": [
    {
     "data": {
      "text/plain": [
       "('./img/image1.png', <http.client.HTTPMessage at 0x68231d0>)"
      ]
     },
     "execution_count": 2,
     "metadata": {},
     "output_type": "execute_result"
    }
   ],
   "source": [
    "from urllib.request import urlretrieve\n",
    "urlretrieve(IMAGE_URL, './img/image1.png') "
   ]
  },
  {
   "cell_type": "code",
   "execution_count": 3,
   "metadata": {},
   "outputs": [],
   "source": [
    "import requests\n",
    "r = requests.get(IMAGE_URL)\n",
    "with open('./img/image2.png', 'wb') as f:\n",
    "    f.write(r.content)  "
   ]
  },
  {
   "cell_type": "code",
   "execution_count": 4,
   "metadata": {},
   "outputs": [],
   "source": [
    "from bs4 import BeautifulSoup\n",
    "#import requests\n",
    "URL = \"https://en.wikipedia.org/wiki/List_of_British_monarchs\""
   ]
  },
  {
   "cell_type": "code",
   "execution_count": 5,
   "metadata": {},
   "outputs": [
    {
     "name": "stdout",
     "output_type": "stream",
     "text": [
      "<a class=\"image\" href=\"/wiki/File:Royal_Coat_of_Arms_of_the_United_Kingdom_(Both_Realms).svg\"><img alt=\"Royal Arms\" data-file-height=\"750\" data-file-width=\"1517\" height=\"148\" src=\"//upload.wikimedia.org/wikipedia/commons/thumb/4/47/Royal_Coat_of_Arms_of_the_United_Kingdom_%28Both_Realms%29.svg/300px-Royal_Coat_of_Arms_of_the_United_Kingdom_%28Both_Realms%29.svg.png\" srcset=\"//upload.wikimedia.org/wikipedia/commons/thumb/4/47/Royal_Coat_of_Arms_of_the_United_Kingdom_%28Both_Realms%29.svg/450px-Royal_Coat_of_Arms_of_the_United_Kingdom_%28Both_Realms%29.svg.png 1.5x, //upload.wikimedia.org/wikipedia/commons/thumb/4/47/Royal_Coat_of_Arms_of_the_United_Kingdom_%28Both_Realms%29.svg/600px-Royal_Coat_of_Arms_of_the_United_Kingdom_%28Both_Realms%29.svg.png 2x\" width=\"300\"/></a>\n"
     ]
    }
   ],
   "source": [
    "html = requests.get(URL).text\n",
    "soup = BeautifulSoup(html, 'lxml')\n",
    "img_ul = soup.find_all('a', {\"class\": \"image\"})\n",
    "print(img_ul[0])\n",
    "import os\n",
    "os.makedirs('./img/', exist_ok=True)"
   ]
  },
  {
   "cell_type": "code",
   "execution_count": 7,
   "metadata": {},
   "outputs": [
    {
     "name": "stdout",
     "output_type": "stream",
     "text": [
      "http://upload.wikimedia.org/wikipedia/commons/thumb/4/47/Royal_Coat_of_Arms_of_the_United_Kingdom_%28Both_Realms%29.svg/300px-Royal_Coat_of_Arms_of_the_United_Kingdom_%28Both_Realms%29.svg.png\n",
      "Saved 300px-Royal_Coat_of_Arms_of_the_United_Kingdom_%28Both_Realms%29.svg.png\n",
      "http://upload.wikimedia.org/wikipedia/commons/thumb/7/75/Anne1705.jpg/100px-Anne1705.jpg\n",
      "Saved 100px-Anne1705.jpg\n",
      "http://upload.wikimedia.org/wikipedia/commons/thumb/5/56/Royal_Arms_of_England_%281603-1707%29.svg/100px-Royal_Arms_of_England_%281603-1707%29.svg.png\n",
      "Saved 100px-Royal_Arms_of_England_%281603-1707%29.svg.png\n",
      "http://upload.wikimedia.org/wikipedia/commons/thumb/8/81/King_George_I_by_Sir_Godfrey_Kneller%2C_Bt.jpg/100px-King_George_I_by_Sir_Godfrey_Kneller%2C_Bt.jpg\n",
      "Saved 100px-King_George_I_by_Sir_Godfrey_Kneller%2C_Bt.jpg\n",
      "http://upload.wikimedia.org/wikipedia/commons/thumb/8/85/Royal_Arms_of_Great_Britain_%281714-1801%29.svg/100px-Royal_Arms_of_Great_Britain_%281714-1801%29.svg.png\n",
      "Saved 100px-Royal_Arms_of_Great_Britain_%281714-1801%29.svg.png\n",
      "http://upload.wikimedia.org/wikipedia/commons/thumb/c/cf/George_II_by_Thomas_Hudson.jpg/100px-George_II_by_Thomas_Hudson.jpg\n",
      "Saved 100px-George_II_by_Thomas_Hudson.jpg\n",
      "http://upload.wikimedia.org/wikipedia/commons/thumb/8/85/Royal_Arms_of_Great_Britain_%281714-1801%29.svg/100px-Royal_Arms_of_Great_Britain_%281714-1801%29.svg.png\n",
      "Saved 100px-Royal_Arms_of_Great_Britain_%281714-1801%29.svg.png\n",
      "http://upload.wikimedia.org/wikipedia/commons/thumb/8/8f/Allan_Ramsay_-_King_George_III_in_coronation_robes_-_Google_Art_Project.jpg/100px-Allan_Ramsay_-_King_George_III_in_coronation_robes_-_Google_Art_Project.jpg\n",
      "Saved 100px-Allan_Ramsay_-_King_George_III_in_coronation_robes_-_Google_Art_Project.jpg\n",
      "http://upload.wikimedia.org/wikipedia/commons/thumb/c/cd/Royal_Arms_of_United_Kingdom_%281816-1837%29.svg/100px-Royal_Arms_of_United_Kingdom_%281816-1837%29.svg.png\n",
      "Saved 100px-Royal_Arms_of_United_Kingdom_%281816-1837%29.svg.png\n",
      "http://upload.wikimedia.org/wikipedia/commons/thumb/e/ef/George_IV_1821_color.jpg/100px-George_IV_1821_color.jpg\n",
      "Saved 100px-George_IV_1821_color.jpg\n",
      "http://upload.wikimedia.org/wikipedia/commons/thumb/c/cd/Royal_Arms_of_United_Kingdom_%281816-1837%29.svg/100px-Royal_Arms_of_United_Kingdom_%281816-1837%29.svg.png\n",
      "Saved 100px-Royal_Arms_of_United_Kingdom_%281816-1837%29.svg.png\n",
      "http://upload.wikimedia.org/wikipedia/commons/thumb/b/b6/William_IV.jpg/100px-William_IV.jpg\n",
      "Saved 100px-William_IV.jpg\n",
      "http://upload.wikimedia.org/wikipedia/commons/thumb/c/cd/Royal_Arms_of_United_Kingdom_%281816-1837%29.svg/100px-Royal_Arms_of_United_Kingdom_%281816-1837%29.svg.png\n",
      "Saved 100px-Royal_Arms_of_United_Kingdom_%281816-1837%29.svg.png\n",
      "http://upload.wikimedia.org/wikipedia/commons/thumb/9/9e/Queen_Victoria_1843.jpg/100px-Queen_Victoria_1843.jpg\n",
      "Saved 100px-Queen_Victoria_1843.jpg\n",
      "http://upload.wikimedia.org/wikipedia/commons/thumb/4/4b/Arms_of_the_United_Kingdom_%28Variant_1%29.svg/100px-Arms_of_the_United_Kingdom_%28Variant_1%29.svg.png\n",
      "Saved 100px-Arms_of_the_United_Kingdom_%28Variant_1%29.svg.png\n",
      "http://upload.wikimedia.org/wikipedia/commons/thumb/8/88/King_Edward_VII_by_Sir_%28Samuel%29_Luke_Fildes.jpg/100px-King_Edward_VII_by_Sir_%28Samuel%29_Luke_Fildes.jpg\n",
      "Saved 100px-King_Edward_VII_by_Sir_%28Samuel%29_Luke_Fildes.jpg\n",
      "http://upload.wikimedia.org/wikipedia/commons/thumb/4/4b/Arms_of_the_United_Kingdom_%28Variant_1%29.svg/100px-Arms_of_the_United_Kingdom_%28Variant_1%29.svg.png\n",
      "Saved 100px-Arms_of_the_United_Kingdom_%28Variant_1%29.svg.png\n",
      "http://upload.wikimedia.org/wikipedia/commons/thumb/c/cf/King_George_V_1911.jpg/100px-King_George_V_1911.jpg\n",
      "Saved 100px-King_George_V_1911.jpg\n",
      "http://upload.wikimedia.org/wikipedia/commons/thumb/4/4b/Arms_of_the_United_Kingdom_%28Variant_1%29.svg/100px-Arms_of_the_United_Kingdom_%28Variant_1%29.svg.png\n",
      "Saved 100px-Arms_of_the_United_Kingdom_%28Variant_1%29.svg.png\n",
      "http://upload.wikimedia.org/wikipedia/commons/thumb/0/00/Edward_VIII_Portrait_-_1936.jpg/100px-Edward_VIII_Portrait_-_1936.jpg\n",
      "Saved 100px-Edward_VIII_Portrait_-_1936.jpg\n",
      "http://upload.wikimedia.org/wikipedia/commons/thumb/4/4b/Arms_of_the_United_Kingdom_%28Variant_1%29.svg/100px-Arms_of_the_United_Kingdom_%28Variant_1%29.svg.png\n",
      "Saved 100px-Arms_of_the_United_Kingdom_%28Variant_1%29.svg.png\n",
      "http://upload.wikimedia.org/wikipedia/commons/thumb/8/80/King_George_VI.jpg/100px-King_George_VI.jpg\n",
      "Saved 100px-King_George_VI.jpg\n",
      "http://upload.wikimedia.org/wikipedia/commons/thumb/4/4b/Arms_of_the_United_Kingdom_%28Variant_1%29.svg/100px-Arms_of_the_United_Kingdom_%28Variant_1%29.svg.png\n",
      "Saved 100px-Arms_of_the_United_Kingdom_%28Variant_1%29.svg.png\n",
      "http://upload.wikimedia.org/wikipedia/commons/thumb/d/d0/Queen_Elizabeth_II_Coronation_Portrait_Herbert_James_Gunn.jpg/100px-Queen_Elizabeth_II_Coronation_Portrait_Herbert_James_Gunn.jpg\n",
      "Saved 100px-Queen_Elizabeth_II_Coronation_Portrait_Herbert_James_Gunn.jpg\n",
      "http://upload.wikimedia.org/wikipedia/commons/thumb/2/2b/Arms_of_the_United_Kingdom.svg/100px-Arms_of_the_United_Kingdom.svg.png\n",
      "Saved 100px-Arms_of_the_United_Kingdom.svg.png\n",
      "http://upload.wikimedia.org/wikipedia/commons/thumb/4/47/Royal_Coat_of_Arms_of_the_United_Kingdom_%28Both_Realms%29.svg/200px-Royal_Coat_of_Arms_of_the_United_Kingdom_%28Both_Realms%29.svg.png\n",
      "Saved 200px-Royal_Coat_of_Arms_of_the_United_Kingdom_%28Both_Realms%29.svg.png\n"
     ]
    }
   ],
   "source": [
    "for ul in img_ul:\n",
    "    imgs = ul.find_all('img')\n",
    "    for img in imgs:\n",
    "        url = 'http:'+img['src']\n",
    "        print(url)\n",
    "        r = requests.get(url, stream=True)\n",
    "        image_name = url.split('/')[-1]\n",
    "        with open('./img/%s' % image_name, 'wb') as f:\n",
    "            for chunk in r.iter_content(chunk_size=128):\n",
    "                f.write(chunk)\n",
    "        print('Saved %s' % image_name)"
   ]
  },
  {
   "cell_type": "code",
   "execution_count": null,
   "metadata": {},
   "outputs": [],
   "source": []
  }
 ],
 "metadata": {
  "kernelspec": {
   "display_name": "Python 3",
   "language": "python",
   "name": "python3"
  },
  "language_info": {
   "codemirror_mode": {
    "name": "ipython",
    "version": 3
   },
   "file_extension": ".py",
   "mimetype": "text/x-python",
   "name": "python",
   "nbconvert_exporter": "python",
   "pygments_lexer": "ipython3",
   "version": "3.7.2"
  }
 },
 "nbformat": 4,
 "nbformat_minor": 1
}
